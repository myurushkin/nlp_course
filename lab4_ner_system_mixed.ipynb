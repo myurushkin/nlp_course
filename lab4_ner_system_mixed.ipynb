{
 "cells": [
  {
   "cell_type": "markdown",
   "metadata": {},
   "source": [
    "Word'based NER is good, but it has many issues with new words :( Let's try to fix this create new model and create analogue of this model:"
   ]
  },
  {
   "cell_type": "markdown",
   "metadata": {},
   "source": [
    "![img](https://spacy.io/assets/img/social/preview_default.jpg)"
   ]
  },
  {
   "cell_type": "code",
   "execution_count": null,
   "metadata": {},
   "outputs": [],
   "source": [
    "import sys, json, codecs, csv\n",
    "import numpy as np\n",
    "import random\n",
    "import pandas as pd\n",
    "import tqdm\n",
    "import itertools\n",
    "import seaborn as sns\n",
    "\n",
    "# visualization\n",
    "import matplotlib\n",
    "import numpy as np\n",
    "from sklearn.model_selection import train_test_split\n",
    "from itertools import chain\n",
    "import matplotlib.pyplot as plt\n",
    "%matplotlib inline  "
   ]
  },
  {
   "cell_type": "markdown",
   "metadata": {},
   "source": [
    "Import of keras layers"
   ]
  },
  {
   "cell_type": "code",
   "execution_count": null,
   "metadata": {},
   "outputs": [],
   "source": [
    "from keras.layers import Input, LSTM, Embedding, Dense\n",
    "from keras.layers.wrappers import Bidirectional\n",
    "from keras.models import Model"
   ]
  },
  {
   "cell_type": "code",
   "execution_count": null,
   "metadata": {},
   "outputs": [],
   "source": [
    "from keras.layers import Layer\n",
    "from keras.layers import concatenate\n",
    "import keras.backend as K\n",
    "\n",
    "class MergeDimsLayer(Layer):\n",
    "    def __init__(self, **kwargs):\n",
    "        super(MergeDimsLayer, self).__init__(**kwargs)\n",
    "\n",
    "    def call(self, x, mask=None):\n",
    "        x_shape = K.shape(x)\n",
    "        return K.reshape(x, shape=(-1, x_shape[-2], x_shape[-1]))\n",
    "\n",
    "    def compute_output_shape(self, input_shape):\n",
    "        return (None, input_shape[-2], input_shape[-1])\n",
    "\n",
    "\n",
    "class RevertMergeDimsLayer(Layer):\n",
    "    def __init__(self, **kwargs):\n",
    "        super(RevertMergeDimsLayer, self).__init__(**kwargs)\n",
    "\n",
    "    def call(self, inputs, mask=None):\n",
    "        x = inputs[0]\n",
    "        word_count = K.shape(inputs[1])[1]\n",
    "        return K.reshape(x, shape=[-1, word_count, K.shape(x)[-1]])\n",
    "\n",
    "    def compute_output_shape(self, input_shape):\n",
    "        x_shape = input_shape[0]\n",
    "        return (None, None, x_shape[-1])\n"
   ]
  },
  {
   "cell_type": "markdown",
   "metadata": {},
   "source": [
    "dataset can be downloaded from this source:\n",
    "https://github.com/EuropeanaNewspapers/ner-corpora"
   ]
  },
  {
   "cell_type": "code",
   "execution_count": null,
   "metadata": {},
   "outputs": [],
   "source": [
    "with open('../data/ner-corpora/enp_FR.bnf.bio/enp_FR.bnf.bio') as f:\n",
    "    text = f.read()"
   ]
  },
  {
   "cell_type": "code",
   "execution_count": null,
   "metadata": {},
   "outputs": [],
   "source": [
    "print(text[:100])"
   ]
  },
  {
   "cell_type": "code",
   "execution_count": null,
   "metadata": {},
   "outputs": [],
   "source": [
    "words = []\n",
    "types = []\n",
    "for item in text.split('\\n'):\n",
    "    item = item.strip()\n",
    "    if len(item) == 0:\n",
    "        continue\n",
    "    [w, t] = item.split(' ')\n",
    "    words.append(w)\n",
    "    types.append(t)"
   ]
  },
  {
   "cell_type": "code",
   "execution_count": null,
   "metadata": {},
   "outputs": [],
   "source": [
    "print(words[:5])\n",
    "print(types[:5])"
   ]
  },
  {
   "cell_type": "code",
   "execution_count": null,
   "metadata": {},
   "outputs": [],
   "source": [
    "unique_types = list(set(types))\n",
    "type2id = {x:index for index, x in enumerate(unique_types)}\n",
    "print(type2id)"
   ]
  },
  {
   "cell_type": "code",
   "execution_count": null,
   "metadata": {},
   "outputs": [],
   "source": [
    "from collections import Counter\n",
    "word2count = Counter(words)\n",
    "MAX_WORD_COUNT = 30000\n",
    "top_words = [x[0] for x in sorted(word2count.items(), key=lambda x: x[1], reverse=True)][:MAX_WORD_COUNT]\n",
    "word2id = {x:index+1 for index, x in enumerate(top_words)}"
   ]
  },
  {
   "cell_type": "code",
   "execution_count": null,
   "metadata": {},
   "outputs": [],
   "source": [
    "train_dataset, test_dataset = train_test_split(zip(words, types), train_size=0.7)"
   ]
  },
  {
   "cell_type": "code",
   "execution_count": null,
   "metadata": {},
   "outputs": [],
   "source": [
    "MAX_WORD_LEN=10\n",
    "all_chars = sorted(set(text))\n",
    "char2id = {x:index+1 for index, x in enumerate(all_chars)}\n",
    "\n",
    "input_words = Input(shape=(None,), name='input_words')\n",
    "out_words = Embedding(input_dim=len(word2id)+1, output_dim=200)(input_words)\n",
    "out_words = Bidirectional(LSTM(200, activation='relu', return_sequences=True))(out_words)\n",
    "\n",
    "input_chars = Input(shape=(None, MAX_WORD_LEN), name='input_chars')\n",
    "input_chars_emb = Embedding(input_dim=len(char2id)+1, output_dim=60)(input_chars)\n",
    "out_chars = MergeDimsLayer()(input_chars_emb)\n",
    "out_chars = Bidirectional(LSTM(200, activation='elu'))(out_chars)\n",
    "out_chars  = RevertMergeDimsLayer()([out_chars, input_chars_emb])\n",
    "\n",
    "result = concatenate([out_words, out_chars])\n",
    "result = LSTM(100, return_sequences=True)(result)\n",
    "result = Dense(len(type2id), activation='softmax')(result)\n",
    "model = Model([input_words, input_chars], result)\n",
    "\n",
    "model.compile(optimizer='adam', loss='categorical_crossentropy')\n",
    "model.summary()"
   ]
  },
  {
   "cell_type": "code",
   "execution_count": null,
   "metadata": {},
   "outputs": [],
   "source": [
    "def getCharId(ch):\n",
    "    return 0 if not ch in char2id else char2id[ch]\n",
    "\n",
    "def getWordId(w):\n",
    "    return 0 if not w in word2id else word2id[w]\n",
    "\n",
    "def gen_batches(dataset, batch_size=64, seq_size=32, batch_count=100):\n",
    "    # implement it yourself!\n",
    "        \n",
    "def encode_text(sentence):\n",
    "    # implement it yourself"
   ]
  },
  {
   "cell_type": "code",
   "execution_count": null,
   "metadata": {},
   "outputs": [],
   "source": [
    "from keras.callbacks import TensorBoard\n",
    "import tensorflow as tf\n",
    "import os, shutil\n",
    "\n",
    "\n",
    "def write_log(callback, names, logs, batch_no):\n",
    "    for name, value in zip(names, logs):\n",
    "        summary = tf.Summary()\n",
    "        summary_value = summary.value.add()\n",
    "        summary_value.simple_value = value\n",
    "        summary_value.tag = name\n",
    "        callback.writer.add_summary(summary, batch_no)\n",
    "        callback.writer.flush()\n",
    "        \n",
    "logs_dir='./logs2'\n",
    "if os.path.exists(logs_dir) == True:\n",
    "    shutil.rmtree(logs_dir)\n",
    "os.mkdir(logs_dir)\n",
    "callback = TensorBoard(logs_dir)\n",
    "callback.set_model(model)"
   ]
  },
  {
   "cell_type": "code",
   "execution_count": null,
   "metadata": {},
   "outputs": [],
   "source": [
    "unique_types"
   ]
  },
  {
   "cell_type": "code",
   "execution_count": null,
   "metadata": {},
   "outputs": [],
   "source": [
    "for epoch in range(100):\n",
    "    losses = []\n",
    "    for x,y in gen_batches(train_dataset, batch_count=32):\n",
    "        loss = model.train_on_batch(x, y)\n",
    "        losses.append(loss)\n",
    "    train_loss = np.mean(losses)\n",
    "        \n",
    "    losses = []\n",
    "    for x,y in gen_batches(test_dataset, batch_count=32):\n",
    "        loss = model.test_on_batch(x, y)\n",
    "        losses.append(loss)\n",
    "    test_loss = np.mean(losses)\n",
    "    \n",
    "    write_log(callback, ['train', 'test'], [train_loss, test_loss], epoch)"
   ]
  },
  {
   "cell_type": "markdown",
   "metadata": {},
   "source": [
    "# Test model"
   ]
  },
  {
   "cell_type": "code",
   "execution_count": null,
   "metadata": {},
   "outputs": [],
   "source": [
    "query = test_dataset[160:260]\n",
    "query_words = [x[0] for x in query]\n",
    "query_types = [x[1] for x in query]\n",
    "result = model.predict_on_batch(encode_text(\" \".join(query_words)))[0]\n",
    "for index in range(result.shape[0]):\n",
    "    w = query_words[index]\n",
    "    true_type = query_types[index]\n",
    "    pred_type = unique_types[np.argmax(result[index,:])] \n",
    "    print(\"{}:\\t{}\\t{}\".format(w, pred_type, true_type))"
   ]
  },
  {
   "cell_type": "markdown",
   "metadata": {},
   "source": [
    "# Home task\n",
    "\n",
    "- 3 points: Finish and tune the model, compare with previous one. Which one is better? Why?\n",
    "- 7 points: Compare your model with spacy (https://spacy.io/)"
   ]
  },
  {
   "cell_type": "code",
   "execution_count": null,
   "metadata": {},
   "outputs": [],
   "source": []
  }
 ],
 "metadata": {
  "kernelspec": {
   "display_name": "Python 2",
   "language": "python",
   "name": "python2"
  },
  "language_info": {
   "codemirror_mode": {
    "name": "ipython",
    "version": 2
   },
   "file_extension": ".py",
   "mimetype": "text/x-python",
   "name": "python",
   "nbconvert_exporter": "python",
   "pygments_lexer": "ipython2",
   "version": "2.7.12"
  }
 },
 "nbformat": 4,
 "nbformat_minor": 2
}
